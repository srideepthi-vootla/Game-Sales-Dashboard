{
 "cells": [
  {
   "cell_type": "markdown",
   "id": "0b9a8b79",
   "metadata": {},
   "source": [
    "\n",
    "# Exploratory Data Analysis: Game Sales\n",
    "\n",
    "This notebook provides an exploratory analysis of the video game sales dataset. \n",
    "The objective is to understand trends in the data, identify top genres, platforms, publishers, and regions, and explore yearly sales dynamics.\n",
    "\n",
    "## Dataset Description\n",
    "\n",
    "- **Data Source**: Processed game sales data\n",
    "- **Columns**:\n",
    "  - `Rank`: Overall ranking based on global sales.\n",
    "  - `Name`: Title of the game.\n",
    "  - `Platform`: Platform on which the game was released.\n",
    "  - `Year`: Year of release.\n",
    "  - `Genre`: Genre of the game.\n",
    "  - `Publisher`: Publisher of the game.\n",
    "  - `North_America_Sales`, `Europe_Sales`, `Japan_Sales`, `Other_Region_Sales`, `Total_Global_Sales`: Regional and global sales in millions of units.\n"
   ]
  },
  {
   "cell_type": "code",
   "execution_count": null,
   "id": "48360b0b",
   "metadata": {},
   "outputs": [],
   "source": [
    "\n",
    "# Import libraries\n",
    "import pandas as pd\n",
    "import matplotlib.pyplot as plt\n",
    "import seaborn as sns\n",
    "\n",
    "# Load dataset\n",
    "data_path = 'processed_game_sales_data.csv'\n",
    "df = pd.read_csv(data_path)\n",
    "\n",
    "# Display dataset info\n",
    "df.info()\n",
    "\n",
    "# Display first few rows\n",
    "df.head()\n"
   ]
  },
  {
   "cell_type": "code",
   "execution_count": null,
   "id": "928f727f",
   "metadata": {},
   "outputs": [],
   "source": [
    "\n",
    "# Summary statistics\n",
    "df.describe()\n",
    "\n",
    "# Top 10 games by global sales\n",
    "top_games = df.nlargest(10, 'Total_Global_Sales')\n",
    "print(\"Top 10 Games by Global Sales:\")\n",
    "print(top_games[['Name', 'Total_Global_Sales']])\n",
    "\n",
    "# Sales distribution by genre\n",
    "plt.figure(figsize=(10, 6))\n",
    "sns.boxplot(x='Genre', y='Total_Global_Sales', data=df)\n",
    "plt.xticks(rotation=45)\n",
    "plt.title('Sales Distribution by Genre')\n",
    "plt.show()\n",
    "\n",
    "# Yearly sales trends\n",
    "yearly_sales = df.groupby('Year')['Total_Global_Sales'].sum()\n",
    "plt.figure(figsize=(10, 6))\n",
    "sns.lineplot(x=yearly_sales.index, y=yearly_sales.values)\n",
    "plt.title('Yearly Global Sales Trends')\n",
    "plt.xlabel('Year')\n",
    "plt.ylabel('Total Global Sales (in millions)')\n",
    "plt.show()\n"
   ]
  },
  {
   "cell_type": "markdown",
   "id": "972426c6",
   "metadata": {},
   "source": [
    "\n",
    "## Conclusions\n",
    "\n",
    "1. **Top Games**: The dataset highlights the most successful games by global sales.\n",
    "2. **Genre Insights**: Certain genres (e.g., Action, Sports) dominate sales, while others show niche performance.\n",
    "3. **Yearly Trends**: Sales peaked in certain years, reflecting the impact of major releases or platform trends.\n",
    "\n",
    "Further analysis can dive into regional trends and platform-specific performances.\n"
   ]
  }
 ],
 "metadata": {},
 "nbformat": 4,
 "nbformat_minor": 5
}
